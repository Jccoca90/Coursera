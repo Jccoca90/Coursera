{
    "cells": [
        {
            "metadata": {
                "collapsed": true
            },
            "cell_type": "markdown",
            "source": "Media Catalogue - Testing Notebook Capabilities\n"
        },
        {
            "metadata": {},
            "cell_type": "code",
            "source": "\nimport types\nimport pandas as pd\nfrom botocore.client import Config\nimport ibm_boto3\n\ndef __iter__(self): return 0\n\n# @hidden_cell\n# The following code accesses a file in your IBM Cloud Object Storage. It includes your credentials.\n# You might want to remove those credentials before you share the notebook.\nclient_cb5b9f4058894b5b856d591c0502f770 = ibm_boto3.client(service_name='s3',\n    ibm_api_key_id='WjdGBBh9pF7pqtxpd6FemIrFCac6D5g2gbagbe133pEY',\n    ibm_auth_endpoint=\"https://iam.cloud.ibm.com/oidc/token\",\n    config=Config(signature_version='oauth'),\n    endpoint_url='https://s3-api.us-geo.objectstorage.service.networklayer.com')\n\nbody = client_cb5b9f4058894b5b856d591c0502f770.get_object(Bucket='courseradatascience-donotdelete-pr-kworroku2bytww',Key='Media Catalogue.csv')['Body']\n# add missing __iter__ method, so pandas accepts body as file-like object\nif not hasattr(body, \"__iter__\"): body.__iter__ = types.MethodType( __iter__, body )\n\ndf_data_1 = pd.read_csv(body)\ndf_data_1.head()\n",
            "execution_count": 2,
            "outputs": [
                {
                    "output_type": "execute_result",
                    "execution_count": 2,
                    "data": {
                        "text/plain": "                   Series Name             Author  Volume #  Total Volume #  \\\n0      A Certain Magical Index     Kazuma Kamachi       5.0             NaN   \n1      A Certain Magical Index     Kazuma Kamachi       6.0             NaN   \n2      A Certain Magical Index     Kazuma Kamachi       7.0             NaN   \n3  Alive - The Final Evolution  Tadashi Kawashima       2.0             NaN   \n4  Alive - The Final Evolution  Tadashi Kawashima       4.0             NaN   \n\n                         Title Physical  Digital   Media Type  \\\n0      A Certain Magical Index        x      NaN  Light Novel   \n1      A Certain Magical Index        x      NaN  Light Novel   \n2      A Certain Magical Index        x      NaN  Light Novel   \n3  Alive - The Final Evolution        x      NaN        Manga   \n4  Alive - The Final Evolution        x      NaN        Manga   \n\n                     Publisher  Extra  Individual Rating  Series Rating Notes  \n0  Yen On (Hachett Book Group)    NaN                NaN            NaN   NaN  \n1  Yen On (Hachett Book Group)    NaN                NaN            NaN   NaN  \n2  Yen On (Hachett Book Group)    NaN                NaN            NaN   NaN  \n3                      Del Rey    NaN                NaN            9.0   NaN  \n4                      Del Rey    NaN                NaN            9.0   NaN  ",
                        "text/html": "<div>\n<style scoped>\n    .dataframe tbody tr th:only-of-type {\n        vertical-align: middle;\n    }\n\n    .dataframe tbody tr th {\n        vertical-align: top;\n    }\n\n    .dataframe thead th {\n        text-align: right;\n    }\n</style>\n<table border=\"1\" class=\"dataframe\">\n  <thead>\n    <tr style=\"text-align: right;\">\n      <th></th>\n      <th>Series Name</th>\n      <th>Author</th>\n      <th>Volume #</th>\n      <th>Total Volume #</th>\n      <th>Title</th>\n      <th>Physical</th>\n      <th>Digital</th>\n      <th>Media Type</th>\n      <th>Publisher</th>\n      <th>Extra</th>\n      <th>Individual Rating</th>\n      <th>Series Rating</th>\n      <th>Notes</th>\n    </tr>\n  </thead>\n  <tbody>\n    <tr>\n      <th>0</th>\n      <td>A Certain Magical Index</td>\n      <td>Kazuma Kamachi</td>\n      <td>5.0</td>\n      <td>NaN</td>\n      <td>A Certain Magical Index</td>\n      <td>x</td>\n      <td>NaN</td>\n      <td>Light Novel</td>\n      <td>Yen On (Hachett Book Group)</td>\n      <td>NaN</td>\n      <td>NaN</td>\n      <td>NaN</td>\n      <td>NaN</td>\n    </tr>\n    <tr>\n      <th>1</th>\n      <td>A Certain Magical Index</td>\n      <td>Kazuma Kamachi</td>\n      <td>6.0</td>\n      <td>NaN</td>\n      <td>A Certain Magical Index</td>\n      <td>x</td>\n      <td>NaN</td>\n      <td>Light Novel</td>\n      <td>Yen On (Hachett Book Group)</td>\n      <td>NaN</td>\n      <td>NaN</td>\n      <td>NaN</td>\n      <td>NaN</td>\n    </tr>\n    <tr>\n      <th>2</th>\n      <td>A Certain Magical Index</td>\n      <td>Kazuma Kamachi</td>\n      <td>7.0</td>\n      <td>NaN</td>\n      <td>A Certain Magical Index</td>\n      <td>x</td>\n      <td>NaN</td>\n      <td>Light Novel</td>\n      <td>Yen On (Hachett Book Group)</td>\n      <td>NaN</td>\n      <td>NaN</td>\n      <td>NaN</td>\n      <td>NaN</td>\n    </tr>\n    <tr>\n      <th>3</th>\n      <td>Alive - The Final Evolution</td>\n      <td>Tadashi Kawashima</td>\n      <td>2.0</td>\n      <td>NaN</td>\n      <td>Alive - The Final Evolution</td>\n      <td>x</td>\n      <td>NaN</td>\n      <td>Manga</td>\n      <td>Del Rey</td>\n      <td>NaN</td>\n      <td>NaN</td>\n      <td>9.0</td>\n      <td>NaN</td>\n    </tr>\n    <tr>\n      <th>4</th>\n      <td>Alive - The Final Evolution</td>\n      <td>Tadashi Kawashima</td>\n      <td>4.0</td>\n      <td>NaN</td>\n      <td>Alive - The Final Evolution</td>\n      <td>x</td>\n      <td>NaN</td>\n      <td>Manga</td>\n      <td>Del Rey</td>\n      <td>NaN</td>\n      <td>NaN</td>\n      <td>9.0</td>\n      <td>NaN</td>\n    </tr>\n  </tbody>\n</table>\n</div>"
                    },
                    "metadata": {}
                }
            ]
        },
        {
            "metadata": {},
            "cell_type": "code",
            "source": "",
            "execution_count": null,
            "outputs": []
        }
    ],
    "metadata": {
        "kernelspec": {
            "name": "python3",
            "display_name": "Python 3.7",
            "language": "python"
        },
        "language_info": {
            "name": "python",
            "version": "3.7.10",
            "mimetype": "text/x-python",
            "codemirror_mode": {
                "name": "ipython",
                "version": 3
            },
            "pygments_lexer": "ipython3",
            "nbconvert_exporter": "python",
            "file_extension": ".py"
        }
    },
    "nbformat": 4,
    "nbformat_minor": 1
}